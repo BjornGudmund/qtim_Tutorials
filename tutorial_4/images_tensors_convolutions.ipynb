{
 "cells": [
  {
   "cell_type": "markdown",
   "metadata": {},
   "source": [
    "### Previously...\n",
    "\n",
    "We learned (lots of) new concepts about images and how they can be loaded and manipulated in Python:\n",
    "\n",
    "* Load & saving images using Pillow (PIL)\n",
    "* Convert from PIL object to raw array data using numpy\n",
    "* Display color images and their individual channels\n",
    "* Plotting an intensity histogram\n",
    "* Applying a threshold to produce binary image\n",
    "* Morphological processing of binary images\n",
    "* Calculating the center of mass\n",
    "\n"
   ]
  },
  {
   "cell_type": "markdown",
   "metadata": {},
   "source": [
    "# Tutorial 2: What on earth are tensors?\n",
    "\n",
    "There are several definitions, depending on the discipline. But for our purposes, they can be thought of as **multi-dimensional arrays**. Tensors are general way of describing pretty much anything:\n",
    "\n",
    "* Scalar value: 0-dimensional tensor\n",
    "* Vector: 1-dimensional tensor\n",
    "* Matrix: 2-dimensional tensor\n",
    "* Volume: 3-dimensional tensor\n",
    "* ... and so on\n",
    "\n",
    "The reason we're bringing these up is that when working with **images in machine learning**, we very often need to adopt a *tensor-based representation* (and, indeed, *thought process*)."
   ]
  },
  {
   "cell_type": "code",
   "execution_count": null,
   "metadata": {},
   "outputs": [],
   "source": []
  }
 ],
 "metadata": {
  "kernelspec": {
   "display_name": "Python 3",
   "language": "python",
   "name": "python3"
  },
  "language_info": {
   "codemirror_mode": {
    "name": "ipython",
    "version": 3
   },
   "file_extension": ".py",
   "mimetype": "text/x-python",
   "name": "python",
   "nbconvert_exporter": "python",
   "pygments_lexer": "ipython3",
   "version": "3.6.4"
  }
 },
 "nbformat": 4,
 "nbformat_minor": 2
}
