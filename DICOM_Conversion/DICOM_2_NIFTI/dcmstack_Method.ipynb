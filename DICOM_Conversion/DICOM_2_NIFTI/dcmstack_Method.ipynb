{
 "cells": [
  {
   "cell_type": "markdown",
   "metadata": {},
   "source": [
    "# Converting DICOM Files to NIfTI Format Using dcmstack \n",
    "\n",
    "\n",
    "This tutorial will teach you how to convert DICOM files to Nifti format using the \"dcmstack\" Python package. DICOM is an effecient and flexible format for storing pixel data and metadata tags for medical images. Nifti is a another popular imaging format that is more limited than DICOM when it comes to metadata and segmentation features, but is well-supported in packages in Python ([nibabel](http://nipy.org/nibabel/)), Matlab ([dicm2nii](https://www.mathworks.com/matlabcentral/fileexchange/42997-dicom-to-nifti-converter--nifti-tool-and-viewer)), and R ([oro.nifti](https://cran.r-project.org/web/packages/oro.nifti/oro.nifti.pdf)). [dcmstack](https://github.com/QIICR/dcmqi) is a Python library used to convert between the two.\n",
    "\n",
    "Much of this tutorial is lifted directly from the dcmstack documentation pages, which you can find here:\n",
    "\n",
    "http://dcmstack.readthedocs.io/en/v0.6.1/"
   ]
  },
  {
   "cell_type": "markdown",
   "metadata": {},
   "source": [
    "## Installing dcmstack\n",
    "\n",
    "To install dcmstack, you should follow the instructions at https://github.com/moloney/dcmstack. First, you will need to download the package from the Github page. You can do this by clicking on the green \"Clone or download\" button at the top right of the page. If you are already familiar with Git, you can simply clone the repository using the following line on the command prompt:"
   ]
  },
  {
   "cell_type": "code",
   "execution_count": null,
   "metadata": {
    "collapsed": true
   },
   "outputs": [],
   "source": [
    "git clone https://github.com/moloney/dcmstack "
   ]
  },
  {
   "cell_type": "markdown",
   "metadata": {},
   "source": [
    "After downloading and if necessary unzipping the package, you can install the package by running:"
   ]
  },
  {
   "cell_type": "code",
   "execution_count": null,
   "metadata": {
    "collapsed": true
   },
   "outputs": [],
   "source": [
    "python setup.py install "
   ]
  },
  {
   "cell_type": "markdown",
   "metadata": {},
   "source": [
    "Make sure to run this command in the same directory that you downloaded your package into."
   ]
  },
  {
   "cell_type": "markdown",
   "metadata": {},
   "source": [
    "## Converting DICOMs to NIfTI using Python\n",
    "\n",
    "Once you have dcmstack installed, you can use it like any Python library. Below is a Python function one can use to output a nifti file and a JSON file with imaging data and DICOM header data, respectively."
   ]
  },
  {
   "cell_type": "code",
   "execution_count": null,
   "metadata": {
    "collapsed": true
   },
   "outputs": [],
   "source": [
    "import dcmstack\n",
    "import glob\n",
    "import os\n",
    "\n",
    "def dcmstack_process(input_directory, nii_output_file, metadata_output_file):\n",
    "\n",
    "    # Load all of the .dcm files found in the provided directory.\n",
    "    src_dcms = glob.glob(os.path.join(input_directory, '*.dcm'))\n",
    "\n",
    "    # Use DICOM stack to retrieve the first imaging series found in that folder.\n",
    "    # Note that if your folder contains multiple imaging series, this function\n",
    "    # will only return one of them.\n",
    "    stacks = dcmstack.parse_and_stack(src_dcms)\n",
    "    stack = stacks.values()[0]\n",
    "\n",
    "    # Write your imaging series to a NIfTI file using to_filename, and write\n",
    "    # your metadata to a json file using .meta_ext.to_json()\n",
    "    nii = stack.to_nifti_wrapper()\n",
    "    with open(metadata_output_file, 'wb') as metadata_file:\n",
    "        metadata_file.write(nii.meta_ext.to_json())\n",
    "    nii.to_filename(nii_output_file)"
   ]
  },
  {
   "cell_type": "markdown",
   "metadata": {},
   "source": [
    "dcmstack_process take an input_directory of DICOM files, presumed to have the \".dcm\" extension, and outputs two files. The first is nii_output_file, which is in NIfTI format. The second is metadata_output_file, which should be a \".json\" file containing all of the DICOM tags in the given imaging series."
   ]
  },
  {
   "cell_type": "markdown",
   "metadata": {},
   "source": [
    "## Converting DICOMs to NIfTI from the Command Prompt\n",
    "\n",
    "Installing dcmstack will also give you access to a new command prompt tool, \"dcmstack\". You can replicate the behavior of the Python function above with the following command from the command prompt:"
   ]
  },
  {
   "cell_type": "code",
   "execution_count": null,
   "metadata": {
    "collapsed": true
   },
   "outputs": [],
   "source": [
    "dcmstack ./INPUT_DICOM_DATA -o ./OUTPUT_NIFTI_FOLDER/test_nifti -d"
   ]
  },
  {
   "cell_type": "markdown",
   "metadata": {},
   "source": [
    "This will find DICOM files from the ./INPUT_DICOM_DATA directory, and output two files: test_nifti.nii.gz, and test_nifti.json. The former will contain imaging data, while the later will contain DICOM tags in JSON format. dcmstack has many other features, which can be explored in d"
   ]
  },
  {
   "cell_type": "markdown",
   "metadata": {},
   "source": [
    "## Converting NIfTI Files to Numpy Arrays using Nibabel\n",
    "\n",
    "Often, you will want to operate directly on the image data stored in NIfTI files. Below, I will show you how to do this Python using the nibabel package. [nibabel](http://nipy.org/nibabel/) can be installed using the pip package manager in Python by entering the following command on the command prompt:"
   ]
  },
  {
   "cell_type": "code",
   "execution_count": null,
   "metadata": {
    "collapsed": true
   },
   "outputs": [],
   "source": [
    "pip install nibabel"
   ]
  },
  {
   "cell_type": "markdown",
   "metadata": {},
   "source": [
    "We can then use the nibabel package to write a short function that will convert incoming nifti files into numpy arrays. See the code below:"
   ]
  },
  {
   "cell_type": "code",
   "execution_count": null,
   "metadata": {
    "collapsed": true
   },
   "outputs": [],
   "source": [
    "import nibabel as nib\n",
    "\n",
    "def nifti_2_numpy(input_filepath):\n",
    "    nifti = nib.load(input_filepath)\n",
    "    return nifti.get_data()"
   ]
  },
  {
   "cell_type": "markdown",
   "metadata": {},
   "source": [
    "nifti_2_numpy return a numpy array of the imaging data from a NIfTI file located at input_filepath. Note that the numpy array returned by this function may not be oriented in the way you expect. To correctly determine the orientation of your array, you must use extract the affine matrix from your NIfTI file. You can do that with a function like this: "
   ]
  },
  {
   "cell_type": "code",
   "execution_count": null,
   "metadata": {
    "collapsed": true
   },
   "outputs": [],
   "source": [
    "import nibabel as nib\n",
    "\n",
    "def nifti_2_numpy_with_affine(input_filepath):\n",
    "    nifti = nib.load(input_filepath)\n",
    "    return nifti.get_data(), nifti.affine"
   ]
  },
  {
   "cell_type": "markdown",
   "metadata": {},
   "source": [
    "nifti_2_numpy_with_affine return a tuple of (data, affine) generated from a NIfTI file located at input_filepath.\n",
    "\n",
    "And that's all you need to know for this tutorial! If you run into any problems with this tutorial, or the code presented here, please submit an issue on our Github page here: https://github.com/QTIM-Lab/qtim_Tutorials/issues"
   ]
  }
 ],
 "metadata": {
  "anaconda-cloud": {},
  "kernelspec": {
   "display_name": "Python [default]",
   "language": "python",
   "name": "python2"
  },
  "language_info": {
   "codemirror_mode": {
    "name": "ipython",
    "version": 2
   },
   "file_extension": ".py",
   "mimetype": "text/x-python",
   "name": "python",
   "nbconvert_exporter": "python",
   "pygments_lexer": "ipython2",
   "version": "2.7.12"
  }
 },
 "nbformat": 4,
 "nbformat_minor": 1
}
