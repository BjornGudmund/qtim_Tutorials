{
 "cells": [
  {
   "cell_type": "markdown",
   "metadata": {},
   "source": [
    "# Converting DICOM Segmentation Objects (DSOs) to NIfTI Format Using dcmqi \n",
    "\n",
    "\n",
    "This tutorial will teach you how to convert DICOM Segmentation Objects (DSOs) to Nifti format using the \"dcmqi\" package. DSO is an effecient and flexible format for storing segmented regions and associated metadata in medical imaging data. Nifti is a another popular imaging format that is more limited than DSOs when it comes to metadata and segmentation features, but is well-supported in packages in Python ([nibabel](http://nipy.org/nibabel/)), Matlab ([dicm2nii](https://www.mathworks.com/matlabcentral/fileexchange/42997-dicom-to-nifti-converter--nifti-tool-and-viewer)), and R ([oro.nifti](https://cran.r-project.org/web/packages/oro.nifti/oro.nifti.pdf)). [dcmqi](https://github.com/QIICR/dcmqi) is a library used for quantiative image research, and has many utilities for converting to and from DICOM image formats to other image formats.\n",
    "\n",
    "Much of this tutorial is lifted directly from the dcmqi documentation pages, which you can find here:\n",
    "\n",
    "https://qiicr.gitbooks.io/dcmqi-guide/"
   ]
  },
  {
   "cell_type": "markdown",
   "metadata": {},
   "source": [
    "## Installing dcmqi\n",
    "\n",
    "To install dcmqi, you should download and unpack the appropriate binary files for your operating system at this link:\n",
    "\n",
    "https://qiicr.gitbooks.io/dcmqi-guide/quick-start.html\n",
    "\n",
    "Also, if you are familiar with Docker, you can also download a dcmqi Docker container from that link."
   ]
  },
  {
   "cell_type": "markdown",
   "metadata": {},
   "source": [
    "## Converting DSOs\n",
    "\n",
    "The following instructions are following the documentation located at this link:\n",
    "\n",
    "https://qiicr.gitbooks.io/dcmqi-guide/user_guide/segimage2itkimage.html\n",
    "\n",
    "The command we're going to use the segimage2itkimage command. Note that you will need to add you binary folder (\"bin\") to your system PATH in order for the vanilla command \"segimage2itkimage\" to work. See these links for more information about how to add folders to your path: [Mac and Linux](https://unix.stackexchange.com/questions/26047/how-to-correctly-add-a-path-to-path), [Windows](https://www.howtogeek.com/118594/how-to-edit-your-system-path-for-easy-command-line-access/). If you don't want to modify your path, you can still run your command by replacing \"segimage2itkimage\" with the full path to your bin folder, e.g. C:/users/example_user/Software/dcmqi/bin/segimage2itkimage with \".exe\" on windows.\n",
    "\n",
    "Once you have your path figured out, an example command, entered on the command prompt, might look like:"
   ]
  },
  {
   "cell_type": "raw",
   "metadata": {},
   "source": [
    "segimage2itkimage --outputType nii --prefix my_NII_file --outputDirectory ./Test_Data --inputDICOM ./Test_Data/my_DSO_file.dcm"
   ]
  },
  {
   "cell_type": "markdown",
   "metadata": {},
   "source": [
    "This will take the file located at ./Test_Data/my_DSO_file.dcm and convert it to nifti (\\*.nii) format. It will be outputed in the ./Test_Data directory with the filename (a.k.a. prefix), \"converted\". It will output one Nifti file for each segmentation at each label value of the segmentation. For example, if you have three segmentations with values 1, 2, and 3, then output files will be titled my_NII_file-1.nii, my_NII_file-2.nii, my_NII_file-3.nii. A metadata file with information taken from the original DICOM will also be generated in JSON format, with the filename my_NII_file.json."
   ]
  },
  {
   "cell_type": "markdown",
   "metadata": {},
   "source": [
    "## Python Wrapper\n",
    "\n",
    "I often like to wrap command-line utilities in Python functions, so that I can easily integrate them with existing Python workflows. Below is an example of how you might do so with this dcmqi command, using the subprocess module in Python."
   ]
  },
  {
   "cell_type": "code",
   "execution_count": null,
   "metadata": {
    "collapsed": true
   },
   "outputs": [],
   "source": [
    "import subprocess\n",
    "\n",
    "def segimage2itkimage(outputType, inputDICOM, outputDirectory, prefix, command_line='C:/Users/abeers/Documents/Software/dcmqi-1.0.5-win64-20171213-e5c3934/bin/segimage2itkimage.exe'):\n",
    "\n",
    "    full_command = ' '.join([command_line, '--outputType', outputType, '--outputDirectory', outputDirectory, '--prefix', prefix, '--inputDICOM', inputDICOM])\n",
    "    subprocess.call(full_command, shell=True)"
   ]
  },
  {
   "cell_type": "markdown",
   "metadata": {},
   "source": [
    "## Converting NIfTI Files to Numpy Arrays using Nibabel\n",
    "\n",
    "Often, you will want to operate directly on the image data stored in NIfTI files. Below, I will show you how to do this Python using the nibabel package. [nibabel](http://nipy.org/nibabel/) can be installed using the pip package manager in Python by entering the following command on the command prompt:"
   ]
  },
  {
   "cell_type": "raw",
   "metadata": {},
   "source": [
    "pip install nibabel"
   ]
  },
  {
   "cell_type": "markdown",
   "metadata": {},
   "source": [
    "We can then use the nibabel package to write a short function that will convert incoming nifti files into numpy arrays. See the code below:"
   ]
  },
  {
   "cell_type": "code",
   "execution_count": null,
   "metadata": {
    "collapsed": true
   },
   "outputs": [],
   "source": [
    "import nibabel as nib\n",
    "\n",
    "def nifti_2_numpy(input_filepath):\n",
    "    nifti = nib.load(input_filepath)\n",
    "    return nifti.get_data()"
   ]
  },
  {
   "cell_type": "markdown",
   "metadata": {},
   "source": [
    "nifti_2_numpy return a numpy array of the imaging data from a NIfTI file located at input_filepath. Note that the numpy array returned by this function may not be oriented in the way you expect. To correctly determine the orientation of your array, you must use extract the affine matrix from your NIfTI file. You can do that with a function like this: "
   ]
  },
  {
   "cell_type": "code",
   "execution_count": null,
   "metadata": {
    "collapsed": true
   },
   "outputs": [],
   "source": [
    "import nibabel as nib\n",
    "\n",
    "def nifti_2_numpy_with_affine(input_filepath):\n",
    "    nifti = nib.load(input_filepath)\n",
    "    return nifti.get_data(), nifti.affine"
   ]
  },
  {
   "cell_type": "markdown",
   "metadata": {},
   "source": [
    "nifti_2_numpy_with_affine return a tuple of (data, affine) generated from a NIfTI file located at input_filepath.\n",
    "\n",
    "And that's all you need to know for this tutorial! If you run into any problems with this tutorial, or the code presented here, please submit an issue on our Github page here: https://github.com/QTIM-Lab/qtim_Tutorials/issues"
   ]
  }
 ],
 "metadata": {
  "anaconda-cloud": {},
  "kernelspec": {
   "display_name": "Python [default]",
   "language": "python",
   "name": "python2"
  },
  "language_info": {
   "codemirror_mode": {
    "name": "ipython",
    "version": 2
   },
   "file_extension": ".py",
   "mimetype": "text/x-python",
   "name": "python",
   "nbconvert_exporter": "python",
   "pygments_lexer": "ipython2",
   "version": "2.7.12"
  }
 },
 "nbformat": 4,
 "nbformat_minor": 1
}
