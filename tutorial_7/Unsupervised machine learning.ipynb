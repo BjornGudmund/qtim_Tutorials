{
 "cells": [
  {
   "cell_type": "markdown",
   "metadata": {},
   "source": [
    "# Unsupervised machine learning\n",
    "\n",
    "Previously, we have taken MR images and attempt assign to them values of normal/diseased, at a whole image level (classification) or a pixel level (segmentation). But what if we don't have labels?\n",
    "\n",
    "We are going to spent this tutorial exploring how to find patterns in data using unsupervised machine learning. We'll introduce three new tools that require no labels (though we'll keep track of them to evaluate our performance):\n",
    "\n",
    "- Autoencoders: deep neural network designed minimize the \"reconstruction error\" between the input and output (which are the same)\n",
    "- K-means clustering: a way of automatically find groups of unlabelled data points in space based on distances between them\n",
    "- K-nearest neighbours: assigning a new data point a label based on its proximity to other labelled data points"
   ]
  },
  {
   "cell_type": "code",
   "execution_count": 1,
   "metadata": {},
   "outputs": [],
   "source": [
    "%load_ext autoreload\n",
    "train_path = 'C:/Users/jxb29/Dropbox (Partners HealthCare)/Teaching/BRATS_10_Updated/*/*.nii.gz'\n",
    "sequences = ['t1', 't2', 't1ce', 'flair']"
   ]
  },
  {
   "cell_type": "code",
   "execution_count": 2,
   "metadata": {},
   "outputs": [],
   "source": [
    "from skimage.measure import label, regionprops\n",
    "\n",
    "def normalize_images(channel_copy):\n",
    "        \n",
    "    label_image = label(channel_copy == 0)\n",
    "\n",
    "    largest_label, largest_area = None, 0\n",
    "    for region in regionprops(label_image):\n",
    "        if region.area > largest_area:\n",
    "            largest_area = region.area\n",
    "            largest_label = region.label\n",
    "\n",
    "    mask = label_image == largest_label     \n",
    "    masked_channel = np.ma.masked_where(mask, channel_copy)\n",
    "\n",
    "    masked_channel = masked_channel - np.mean(masked_channel)\n",
    "    masked_channel = masked_channel / np.std(masked_channel)\n",
    "    masked_channel = np.ma.getdata(masked_channel)\n",
    "    return masked_channel"
   ]
  },
  {
   "cell_type": "code",
   "execution_count": 3,
   "metadata": {},
   "outputs": [
    {
     "name": "stderr",
     "output_type": "stream",
     "text": [
      "C:\\Users\\jxb29\\AppData\\Local\\Continuum\\anaconda3\\lib\\site-packages\\h5py\\__init__.py:36: FutureWarning: Conversion of the second argument of issubdtype from `float` to `np.floating` is deprecated. In future, it will be treated as `np.float64 == np.dtype(float).type`.\n",
      "  from ._conv import register_converters as _register_converters\n"
     ]
    }
   ],
   "source": [
    "from glob import glob\n",
    "import nibabel as nib\n",
    "from os.path import basename\n",
    "import numpy as np \n",
    "\n",
    "all_images = glob(train_path)\n",
    "\n",
    "slices = []\n",
    "labels = []\n",
    "no_slices = 40\n",
    "\n",
    "for nifti_file in all_images:\n",
    "    \n",
    "    seq = basename(nifti_file).split('.')[0].split('_')[-1]\n",
    "    \n",
    "    if seq not in sequences:\n",
    "        continue\n",
    "    \n",
    "    # Load Nifti file, normalize it\n",
    "    vol = nib.load(nifti_file).get_data()\n",
    "    vol = normalize_images(vol)\n",
    "    \n",
    "    # Take a middle-ish section of the volume\n",
    "    halfway_point = vol.shape[2] // 2\n",
    "    sample = [vol[:,:,i] for i in range(halfway_point-(no_slices//2), halfway_point+(no_slices//2))]\n",
    "    slices.extend(sample)\n",
    "    \n",
    "    # Keep track of the labels (sequence ID: 0 == t1, 1 == t2)\n",
    "    index = sequences.index(seq)\n",
    "    index_list = [index] * no_slices\n",
    "    labels.extend(index_list)"
   ]
  },
  {
   "cell_type": "code",
   "execution_count": 4,
   "metadata": {},
   "outputs": [
    {
     "name": "stdout",
     "output_type": "stream",
     "text": [
      "(1760, 240, 240, 1) (1760,)\n"
     ]
    }
   ],
   "source": [
    "# (samples: 40 * N, rows: 240, columns: 240, channels: 1)\n",
    "X = np.expand_dims(np.asarray(slices), axis=-1)\n",
    "y = np.asarray(labels)\n",
    "print(X.shape, y.shape)"
   ]
  },
  {
   "cell_type": "code",
   "execution_count": 5,
   "metadata": {},
   "outputs": [
    {
     "name": "stderr",
     "output_type": "stream",
     "text": [
      "Using TensorFlow backend.\n"
     ]
    }
   ],
   "source": [
    "import h5py\n",
    "from keras.utils.io_utils import HDF5Matrix\n",
    "from keras.preprocessing.image import ImageDataGenerator\n",
    "\n",
    "\n",
    "def save_hdf5_file(train_data, output_filename):\n",
    "    \n",
    "    with h5py.File(output_filename, 'w') as file_handle:\n",
    "        file_handle.create_dataset('train', data=train_data, dtype=train_data.dtype)\n",
    "\n",
    "class ReconGenerator:\n",
    "  \n",
    "    def __init__(self, training_data, save_file, batch_size=20, augmentation=None):\n",
    "    \n",
    "        self.training_data = training_data\n",
    "        self.save_file = save_file\n",
    "        self.batch_size = batch_size\n",
    "        self.augmentation = augmentation\n",
    "        self.seed = 1989\n",
    "\n",
    "        self.X_train = None\n",
    "        save_hdf5_file(training_data, self.save_file)\n",
    "        self.X_train = HDF5Matrix(self.save_file, 'train')\n",
    "\n",
    "    def generator(self):\n",
    "\n",
    "        aug_dict = dict()\n",
    "        if self.augmentation is not None:\n",
    "            aug_dict = self.augmentation\n",
    "\n",
    "        X_datagen = ImageDataGenerator(**aug_dict)\n",
    "        X_generator = X_datagen.flow(self.X_train, seed=self.seed, batch_size=self.batch_size, shuffle=True)\n",
    "\n",
    "        return zip(X_generator, X_generator)"
   ]
  },
  {
   "cell_type": "code",
   "execution_count": 6,
   "metadata": {
    "scrolled": false
   },
   "outputs": [],
   "source": [
    "batch_size = 20\n",
    "recon_gen = ReconGenerator(X, 'ae_data.h5').generator()"
   ]
  },
  {
   "cell_type": "code",
   "execution_count": 8,
   "metadata": {
    "scrolled": true
   },
   "outputs": [
    {
     "name": "stdout",
     "output_type": "stream",
     "text": [
      "Epoch 1/5\n",
      "88/88 [==============================] - 512s 6s/step - loss: 0.4227 - mean_absolute_error: 0.3541\n",
      "Epoch 2/5\n",
      "88/88 [==============================] - 496s 6s/step - loss: 0.2703 - mean_absolute_error: 0.2640\n",
      "Epoch 3/5\n",
      "88/88 [==============================] - 464s 5s/step - loss: 0.2623 - mean_absolute_error: 0.2503\n",
      "Epoch 4/5\n",
      "88/88 [==============================] - 464s 5s/step - loss: 0.2602 - mean_absolute_error: 0.2439\n",
      "Epoch 5/5\n",
      "88/88 [==============================] - 463s 5s/step - loss: 0.2589 - mean_absolute_error: 0.2399\n"
     ]
    }
   ],
   "source": [
    "%autoreload 2\n",
    "import models\n",
    "ae = models.autoencoder(image_shape=X.shape[1:])\n",
    "ae.compile(loss='mse', optimizer='sgd', metrics=['mae'])\n",
    "ae.fit_generator(recon_gen, epochs=5, steps_per_epoch=X.shape[0] // batch_size)\n",
    "ae.save_weights('ae_weights.h5')"
   ]
  },
  {
   "cell_type": "code",
   "execution_count": 9,
   "metadata": {},
   "outputs": [],
   "source": [
    "import models\n",
    "encoder = models.autoencoder(image_shape=X.shape[1:], encoder_only=True)\n",
    "encoder.load_weights('ae_weights.h5', by_name=True)"
   ]
  },
  {
   "cell_type": "code",
   "execution_count": 10,
   "metadata": {},
   "outputs": [],
   "source": [
    "features = encoder.predict(X)"
   ]
  },
  {
   "cell_type": "code",
   "execution_count": 11,
   "metadata": {},
   "outputs": [
    {
     "name": "stdout",
     "output_type": "stream",
     "text": [
      "(1760, 57600)\n"
     ]
    }
   ],
   "source": [
    "print(features.shape)"
   ]
  },
  {
   "cell_type": "code",
   "execution_count": 12,
   "metadata": {},
   "outputs": [
    {
     "name": "stdout",
     "output_type": "stream",
     "text": [
      "[t-SNE] Computing 91 nearest neighbors...\n",
      "[t-SNE] Indexed 1760 samples in 3.764s...\n",
      "[t-SNE] Computed neighbors for 1760 samples in 322.614s...\n",
      "[t-SNE] Computed conditional probabilities for sample 1000 / 1760\n",
      "[t-SNE] Computed conditional probabilities for sample 1760 / 1760\n",
      "[t-SNE] Mean sigma: 4.052459\n",
      "[t-SNE] KL divergence after 250 iterations with early exaggeration: 67.490974\n",
      "[t-SNE] Error after 1000 iterations: 0.404448\n"
     ]
    }
   ],
   "source": [
    "from sklearn.manifold import TSNE\n",
    "\n",
    "tsne = TSNE(n_components=2, verbose=1)\n",
    "T = tsne.fit_transform(features)"
   ]
  },
  {
   "cell_type": "code",
   "execution_count": 13,
   "metadata": {},
   "outputs": [
    {
     "name": "stdout",
     "output_type": "stream",
     "text": [
      "(1760, 2)\n"
     ]
    }
   ],
   "source": [
    "print(T.shape)"
   ]
  },
  {
   "cell_type": "code",
   "execution_count": 14,
   "metadata": {},
   "outputs": [
    {
     "data": {
      "image/png": "[encoded data removed]",
      "text/plain": [
       "<Figure size 720x720 with 1 Axes>"
      ]
     },
     "metadata": {},
     "output_type": "display_data"
    }
   ],
   "source": [
    "import matplotlib.pyplot as plt\n",
    "%matplotlib inline\n",
    "\n",
    "plt.figure(figsize=(10,10))\n",
    "\n",
    "for c, i in {'r': 0, 'b': 1}.items():\n",
    "    \n",
    "    idx = y == i\n",
    "    plt.scatter(T[idx, 0], T[idx, 1], c=c)\n",
    "plt.show()"
   ]
  }
 ],
 "metadata": {
  "kernelspec": {
   "display_name": "Python 3",
   "language": "python",
   "name": "python3"
  },
  "language_info": {
   "codemirror_mode": {
    "name": "ipython",
    "version": 3
   },
   "file_extension": ".py",
   "mimetype": "text/x-python",
   "name": "python",
   "nbconvert_exporter": "python",
   "pygments_lexer": "ipython3",
   "version": "3.6.5"
  }
 },
 "nbformat": 4,
 "nbformat_minor": 2
}
